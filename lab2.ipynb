{
 "cells": [
  {
   "cell_type": "markdown",
   "id": "8b9261ca",
   "metadata": {},
   "source": [
    "## Лабораторная работа №2"
   ]
  },
  {
   "cell_type": "code",
   "execution_count": 2,
   "id": "f40cb191-3b4d-403a-b331-5220505771ef",
   "metadata": {},
   "outputs": [],
   "source": [
    "from itertools import combinations\n",
    "import matplotlib.pyplot as plt\n",
    "from sklearn.metrics import mean_absolute_error\n",
    "\n",
    "from catboost import CatBoostRegressor\n",
    "from catboost import EShapCalcType, EFeaturesSelectionAlgorithm\n",
    "from catboost import Pool\n",
    "#import shapcc\n",
    "\n",
    "import numpy as np\n",
    "import pandas as pd "
   ]
  },
  {
   "cell_type": "markdown",
   "id": "672f6793",
   "metadata": {},
   "source": [
    "### Предобработка"
   ]
  },
  {
   "cell_type": "code",
   "execution_count": 3,
   "id": "5a990ec7-d4fb-4985-b626-fe5bae97ac10",
   "metadata": {},
   "outputs": [
    {
     "data": {
      "text/html": [
       "<div>\n",
       "<style scoped>\n",
       "    .dataframe tbody tr th:only-of-type {\n",
       "        vertical-align: middle;\n",
       "    }\n",
       "\n",
       "    .dataframe tbody tr th {\n",
       "        vertical-align: top;\n",
       "    }\n",
       "\n",
       "    .dataframe thead th {\n",
       "        text-align: right;\n",
       "    }\n",
       "</style>\n",
       "<table border=\"1\" class=\"dataframe\">\n",
       "  <thead>\n",
       "    <tr style=\"text-align: right;\">\n",
       "      <th></th>\n",
       "      <th>stock_id</th>\n",
       "      <th>date_id</th>\n",
       "      <th>seconds_in_bucket</th>\n",
       "      <th>imbalance_size</th>\n",
       "      <th>imbalance_buy_sell_flag</th>\n",
       "      <th>reference_price</th>\n",
       "      <th>matched_size</th>\n",
       "      <th>far_price</th>\n",
       "      <th>near_price</th>\n",
       "      <th>bid_price</th>\n",
       "      <th>bid_size</th>\n",
       "      <th>ask_price</th>\n",
       "      <th>ask_size</th>\n",
       "      <th>wap</th>\n",
       "      <th>target</th>\n",
       "      <th>time_id</th>\n",
       "      <th>row_id</th>\n",
       "    </tr>\n",
       "  </thead>\n",
       "  <tbody>\n",
       "    <tr>\n",
       "      <th>0</th>\n",
       "      <td>0</td>\n",
       "      <td>0</td>\n",
       "      <td>0</td>\n",
       "      <td>3180602.69</td>\n",
       "      <td>1</td>\n",
       "      <td>0.999812</td>\n",
       "      <td>13380276.64</td>\n",
       "      <td>NaN</td>\n",
       "      <td>NaN</td>\n",
       "      <td>0.999812</td>\n",
       "      <td>60651.50</td>\n",
       "      <td>1.000026</td>\n",
       "      <td>8493.03</td>\n",
       "      <td>1.0</td>\n",
       "      <td>-3.029704</td>\n",
       "      <td>0</td>\n",
       "      <td>0_0_0</td>\n",
       "    </tr>\n",
       "    <tr>\n",
       "      <th>1</th>\n",
       "      <td>1</td>\n",
       "      <td>0</td>\n",
       "      <td>0</td>\n",
       "      <td>166603.91</td>\n",
       "      <td>-1</td>\n",
       "      <td>0.999896</td>\n",
       "      <td>1642214.25</td>\n",
       "      <td>NaN</td>\n",
       "      <td>NaN</td>\n",
       "      <td>0.999896</td>\n",
       "      <td>3233.04</td>\n",
       "      <td>1.000660</td>\n",
       "      <td>20605.09</td>\n",
       "      <td>1.0</td>\n",
       "      <td>-5.519986</td>\n",
       "      <td>0</td>\n",
       "      <td>0_0_1</td>\n",
       "    </tr>\n",
       "    <tr>\n",
       "      <th>2</th>\n",
       "      <td>2</td>\n",
       "      <td>0</td>\n",
       "      <td>0</td>\n",
       "      <td>302879.87</td>\n",
       "      <td>-1</td>\n",
       "      <td>0.999561</td>\n",
       "      <td>1819368.03</td>\n",
       "      <td>NaN</td>\n",
       "      <td>NaN</td>\n",
       "      <td>0.999403</td>\n",
       "      <td>37956.00</td>\n",
       "      <td>1.000298</td>\n",
       "      <td>18995.00</td>\n",
       "      <td>1.0</td>\n",
       "      <td>-8.389950</td>\n",
       "      <td>0</td>\n",
       "      <td>0_0_2</td>\n",
       "    </tr>\n",
       "    <tr>\n",
       "      <th>3</th>\n",
       "      <td>3</td>\n",
       "      <td>0</td>\n",
       "      <td>0</td>\n",
       "      <td>11917682.27</td>\n",
       "      <td>-1</td>\n",
       "      <td>1.000171</td>\n",
       "      <td>18389745.62</td>\n",
       "      <td>NaN</td>\n",
       "      <td>NaN</td>\n",
       "      <td>0.999999</td>\n",
       "      <td>2324.90</td>\n",
       "      <td>1.000214</td>\n",
       "      <td>479032.40</td>\n",
       "      <td>1.0</td>\n",
       "      <td>-4.010200</td>\n",
       "      <td>0</td>\n",
       "      <td>0_0_3</td>\n",
       "    </tr>\n",
       "    <tr>\n",
       "      <th>4</th>\n",
       "      <td>4</td>\n",
       "      <td>0</td>\n",
       "      <td>0</td>\n",
       "      <td>447549.96</td>\n",
       "      <td>-1</td>\n",
       "      <td>0.999532</td>\n",
       "      <td>17860614.95</td>\n",
       "      <td>NaN</td>\n",
       "      <td>NaN</td>\n",
       "      <td>0.999394</td>\n",
       "      <td>16485.54</td>\n",
       "      <td>1.000016</td>\n",
       "      <td>434.10</td>\n",
       "      <td>1.0</td>\n",
       "      <td>-7.349849</td>\n",
       "      <td>0</td>\n",
       "      <td>0_0_4</td>\n",
       "    </tr>\n",
       "  </tbody>\n",
       "</table>\n",
       "</div>"
      ],
      "text/plain": [
       "   stock_id  date_id  seconds_in_bucket  imbalance_size  \\\n",
       "0         0        0                  0      3180602.69   \n",
       "1         1        0                  0       166603.91   \n",
       "2         2        0                  0       302879.87   \n",
       "3         3        0                  0     11917682.27   \n",
       "4         4        0                  0       447549.96   \n",
       "\n",
       "   imbalance_buy_sell_flag  reference_price  matched_size  far_price  \\\n",
       "0                        1         0.999812   13380276.64        NaN   \n",
       "1                       -1         0.999896    1642214.25        NaN   \n",
       "2                       -1         0.999561    1819368.03        NaN   \n",
       "3                       -1         1.000171   18389745.62        NaN   \n",
       "4                       -1         0.999532   17860614.95        NaN   \n",
       "\n",
       "   near_price  bid_price  bid_size  ask_price   ask_size  wap    target  \\\n",
       "0         NaN   0.999812  60651.50   1.000026    8493.03  1.0 -3.029704   \n",
       "1         NaN   0.999896   3233.04   1.000660   20605.09  1.0 -5.519986   \n",
       "2         NaN   0.999403  37956.00   1.000298   18995.00  1.0 -8.389950   \n",
       "3         NaN   0.999999   2324.90   1.000214  479032.40  1.0 -4.010200   \n",
       "4         NaN   0.999394  16485.54   1.000016     434.10  1.0 -7.349849   \n",
       "\n",
       "   time_id row_id  \n",
       "0        0  0_0_0  \n",
       "1        0  0_0_1  \n",
       "2        0  0_0_2  \n",
       "3        0  0_0_3  \n",
       "4        0  0_0_4  "
      ]
     },
     "execution_count": 3,
     "metadata": {},
     "output_type": "execute_result"
    }
   ],
   "source": [
    "train = pd.read_csv('train.csv')\n",
    "train.head(5)"
   ]
  },
  {
   "cell_type": "code",
   "execution_count": 4,
   "id": "14239b0f",
   "metadata": {},
   "outputs": [],
   "source": [
    "train = train.dropna(subset=[\"target\"])\n",
    "train.reset_index(drop=True, inplace=True)"
   ]
  },
  {
   "cell_type": "code",
   "execution_count": 5,
   "id": "7ee4682e",
   "metadata": {},
   "outputs": [
    {
     "name": "stdout",
     "output_type": "stream",
     "text": [
      "stock_id                   False\n",
      "date_id                    False\n",
      "seconds_in_bucket          False\n",
      "imbalance_size              True\n",
      "imbalance_buy_sell_flag    False\n",
      "reference_price             True\n",
      "matched_size                True\n",
      "far_price                   True\n",
      "near_price                  True\n",
      "bid_price                   True\n",
      "bid_size                   False\n",
      "ask_price                   True\n",
      "ask_size                   False\n",
      "wap                         True\n",
      "target                     False\n",
      "time_id                    False\n",
      "row_id                     False\n",
      "dtype: bool\n"
     ]
    }
   ],
   "source": [
    "print(train.isnull().any()) # Проверяем в каких столбиках есть пропущенные значения"
   ]
  },
  {
   "cell_type": "code",
   "execution_count": 6,
   "id": "e6f48a52-4d34-4594-88e9-ec95019eea0f",
   "metadata": {},
   "outputs": [
    {
     "data": {
      "text/html": [
       "<div>\n",
       "<style scoped>\n",
       "    .dataframe tbody tr th:only-of-type {\n",
       "        vertical-align: middle;\n",
       "    }\n",
       "\n",
       "    .dataframe tbody tr th {\n",
       "        vertical-align: top;\n",
       "    }\n",
       "\n",
       "    .dataframe thead th {\n",
       "        text-align: right;\n",
       "    }\n",
       "</style>\n",
       "<table border=\"1\" class=\"dataframe\">\n",
       "  <thead>\n",
       "    <tr style=\"text-align: right;\">\n",
       "      <th></th>\n",
       "      <th>stock_id</th>\n",
       "      <th>date_id</th>\n",
       "      <th>seconds_in_bucket</th>\n",
       "      <th>imbalance_size</th>\n",
       "      <th>imbalance_buy_sell_flag</th>\n",
       "      <th>reference_price</th>\n",
       "      <th>matched_size</th>\n",
       "      <th>far_price</th>\n",
       "      <th>near_price</th>\n",
       "      <th>bid_price</th>\n",
       "      <th>bid_size</th>\n",
       "      <th>ask_price</th>\n",
       "      <th>ask_size</th>\n",
       "      <th>wap</th>\n",
       "      <th>target</th>\n",
       "      <th>time_id</th>\n",
       "      <th>row_id</th>\n",
       "    </tr>\n",
       "  </thead>\n",
       "  <tbody>\n",
       "    <tr>\n",
       "      <th>0</th>\n",
       "      <td>0</td>\n",
       "      <td>0</td>\n",
       "      <td>0</td>\n",
       "      <td>3180602.69</td>\n",
       "      <td>1</td>\n",
       "      <td>0.999812</td>\n",
       "      <td>13380276.64</td>\n",
       "      <td>0.999883</td>\n",
       "      <td>0.999889</td>\n",
       "      <td>0.999812</td>\n",
       "      <td>60651.50</td>\n",
       "      <td>1.000026</td>\n",
       "      <td>8493.03</td>\n",
       "      <td>1.0</td>\n",
       "      <td>-3.029704</td>\n",
       "      <td>0</td>\n",
       "      <td>0_0_0</td>\n",
       "    </tr>\n",
       "    <tr>\n",
       "      <th>1</th>\n",
       "      <td>1</td>\n",
       "      <td>0</td>\n",
       "      <td>0</td>\n",
       "      <td>166603.91</td>\n",
       "      <td>-1</td>\n",
       "      <td>0.999896</td>\n",
       "      <td>1642214.25</td>\n",
       "      <td>0.999883</td>\n",
       "      <td>0.999889</td>\n",
       "      <td>0.999896</td>\n",
       "      <td>3233.04</td>\n",
       "      <td>1.000660</td>\n",
       "      <td>20605.09</td>\n",
       "      <td>1.0</td>\n",
       "      <td>-5.519986</td>\n",
       "      <td>0</td>\n",
       "      <td>0_0_1</td>\n",
       "    </tr>\n",
       "    <tr>\n",
       "      <th>2</th>\n",
       "      <td>2</td>\n",
       "      <td>0</td>\n",
       "      <td>0</td>\n",
       "      <td>302879.87</td>\n",
       "      <td>-1</td>\n",
       "      <td>0.999561</td>\n",
       "      <td>1819368.03</td>\n",
       "      <td>0.999883</td>\n",
       "      <td>0.999889</td>\n",
       "      <td>0.999403</td>\n",
       "      <td>37956.00</td>\n",
       "      <td>1.000298</td>\n",
       "      <td>18995.00</td>\n",
       "      <td>1.0</td>\n",
       "      <td>-8.389950</td>\n",
       "      <td>0</td>\n",
       "      <td>0_0_2</td>\n",
       "    </tr>\n",
       "    <tr>\n",
       "      <th>3</th>\n",
       "      <td>3</td>\n",
       "      <td>0</td>\n",
       "      <td>0</td>\n",
       "      <td>11917682.27</td>\n",
       "      <td>-1</td>\n",
       "      <td>1.000171</td>\n",
       "      <td>18389745.62</td>\n",
       "      <td>0.999883</td>\n",
       "      <td>0.999889</td>\n",
       "      <td>0.999999</td>\n",
       "      <td>2324.90</td>\n",
       "      <td>1.000214</td>\n",
       "      <td>479032.40</td>\n",
       "      <td>1.0</td>\n",
       "      <td>-4.010200</td>\n",
       "      <td>0</td>\n",
       "      <td>0_0_3</td>\n",
       "    </tr>\n",
       "    <tr>\n",
       "      <th>4</th>\n",
       "      <td>4</td>\n",
       "      <td>0</td>\n",
       "      <td>0</td>\n",
       "      <td>447549.96</td>\n",
       "      <td>-1</td>\n",
       "      <td>0.999532</td>\n",
       "      <td>17860614.95</td>\n",
       "      <td>0.999883</td>\n",
       "      <td>0.999889</td>\n",
       "      <td>0.999394</td>\n",
       "      <td>16485.54</td>\n",
       "      <td>1.000016</td>\n",
       "      <td>434.10</td>\n",
       "      <td>1.0</td>\n",
       "      <td>-7.349849</td>\n",
       "      <td>0</td>\n",
       "      <td>0_0_4</td>\n",
       "    </tr>\n",
       "  </tbody>\n",
       "</table>\n",
       "</div>"
      ],
      "text/plain": [
       "   stock_id  date_id  seconds_in_bucket  imbalance_size  \\\n",
       "0         0        0                  0      3180602.69   \n",
       "1         1        0                  0       166603.91   \n",
       "2         2        0                  0       302879.87   \n",
       "3         3        0                  0     11917682.27   \n",
       "4         4        0                  0       447549.96   \n",
       "\n",
       "   imbalance_buy_sell_flag  reference_price  matched_size  far_price  \\\n",
       "0                        1         0.999812   13380276.64   0.999883   \n",
       "1                       -1         0.999896    1642214.25   0.999883   \n",
       "2                       -1         0.999561    1819368.03   0.999883   \n",
       "3                       -1         1.000171   18389745.62   0.999883   \n",
       "4                       -1         0.999532   17860614.95   0.999883   \n",
       "\n",
       "   near_price  bid_price  bid_size  ask_price   ask_size  wap    target  \\\n",
       "0    0.999889   0.999812  60651.50   1.000026    8493.03  1.0 -3.029704   \n",
       "1    0.999889   0.999896   3233.04   1.000660   20605.09  1.0 -5.519986   \n",
       "2    0.999889   0.999403  37956.00   1.000298   18995.00  1.0 -8.389950   \n",
       "3    0.999889   0.999999   2324.90   1.000214  479032.40  1.0 -4.010200   \n",
       "4    0.999889   0.999394  16485.54   1.000016     434.10  1.0 -7.349849   \n",
       "\n",
       "   time_id row_id  \n",
       "0        0  0_0_0  \n",
       "1        0  0_0_1  \n",
       "2        0  0_0_2  \n",
       "3        0  0_0_3  \n",
       "4        0  0_0_4  "
      ]
     },
     "execution_count": 6,
     "metadata": {},
     "output_type": "execute_result"
    }
   ],
   "source": [
    "nan_columns = list(train.loc[:, train.isna().any()].columns) # Получаем названия столбцов где есть значения Nan\n",
    "train[nan_columns] = train[nan_columns].fillna(train[nan_columns].median()) # Заменяем пропуски медианой\n",
    "train = train[:int(len(train)*0.1)] # Берем только 10% всего датасета\n",
    "train.head(5)"
   ]
  },
  {
   "cell_type": "code",
   "execution_count": 7,
   "id": "abac841e-d54e-4ca4-9730-cc871a94cddc",
   "metadata": {},
   "outputs": [
    {
     "name": "stdout",
     "output_type": "stream",
     "text": [
      "14 features: ['stock_id', 'date_id', 'seconds_in_bucket', 'imbalance_size', 'imbalance_buy_sell_flag', 'reference_price', 'matched_size', 'far_price', 'near_price', 'bid_price', 'bid_size', 'ask_price', 'ask_size', 'wap']\n"
     ]
    }
   ],
   "source": [
    "features = [col for col in train.columns if col not in ['row_id', 'time_id', 'target']] # Определяем список признаков\n",
    "print(f\"{len(features)} features: {features}\")"
   ]
  },
  {
   "cell_type": "code",
   "execution_count": 8,
   "id": "5d627668-1df2-40e6-a01d-be3ade390c7b",
   "metadata": {},
   "outputs": [],
   "source": [
    "X = train[features]\n",
    "y = train['target']"
   ]
  },
  {
   "cell_type": "code",
   "execution_count": 9,
   "id": "9d3574a5",
   "metadata": {},
   "outputs": [
    {
     "data": {
      "text/plain": [
       "50"
      ]
     },
     "execution_count": 9,
     "metadata": {},
     "output_type": "execute_result"
    }
   ],
   "source": [
    "number_of_days = len(X.date_id.unique()) \n",
    "number_of_days"
   ]
  },
  {
   "cell_type": "code",
   "execution_count": 10,
   "id": "8d54f640-7a0b-46a6-a2aa-56576e9c9ed1",
   "metadata": {},
   "outputs": [
    {
     "name": "stdout",
     "output_type": "stream",
     "text": [
      "40 10\n"
     ]
    },
    {
     "data": {
      "text/plain": [
       "((433149, 14), (90640, 14), (433149,), (90640,))"
      ]
     },
     "execution_count": 10,
     "metadata": {},
     "output_type": "execute_result"
    }
   ],
   "source": [
    "number_of_days = len(X.date_id.unique())  # Всего 481 торговых дней, в качестве тестового набора возьмем последние n\n",
    "testing_days = 10\n",
    "training_days = number_of_days - testing_days\n",
    "print(training_days, testing_days)\n",
    "\n",
    "# маска, чтобы выделить дни для тренировок и тестирования\n",
    "training_mask = X.date_id <= training_days\n",
    "testing_mask = X.date_id > training_days\n",
    "\n",
    "# создание обучающий и проверочный выборки\n",
    "X_train, X_val, y_train, y_val = X[training_mask], X[testing_mask], y[training_mask], y[testing_mask] \n",
    "X_train.shape, X_val.shape, y_train.shape, y_val.shape"
   ]
  },
  {
   "cell_type": "code",
   "execution_count": 11,
   "id": "62fbf321-7883-4c5c-8d28-24f01f97fb85",
   "metadata": {},
   "outputs": [],
   "source": [
    "def feature_engineering(X):\n",
    "\n",
    "    _X = X.copy()\n",
    "\n",
    "    # features taken from https://www.kaggle.com/code/zulqarnainali/explained-singel-model-optiver\n",
    "    _X[\"liquidity_imbalance\"] = _X.eval(\"(bid_size-ask_size)/(bid_size+ask_size)\")\n",
    "    _X[\"matched_imbalance\"] = _X.eval(\"(imbalance_size-matched_size)/(matched_size+imbalance_size)\")\n",
    "    _X[\"price_spread\"] = _X[\"ask_price\"] - _X[\"bid_price\"]\n",
    "    _X['market_urgency'] = _X['price_spread'] * _X['liquidity_imbalance']\n",
    "    \n",
    "    return _X.drop(columns=['date_id'])"
   ]
  },
  {
   "cell_type": "code",
   "execution_count": 12,
   "id": "d8c319f7-2c07-49c2-97f2-8f03cfe495ef",
   "metadata": {},
   "outputs": [
    {
     "name": "stdout",
     "output_type": "stream",
     "text": [
      "CPU times: total: 15.6 ms\n",
      "Wall time: 169 ms\n"
     ]
    },
    {
     "data": {
      "text/plain": [
       "((433149, 17), (90640, 17))"
      ]
     },
     "execution_count": 12,
     "metadata": {},
     "output_type": "execute_result"
    }
   ],
   "source": [
    "%%time \n",
    "\n",
    "# применить feature_engineering\n",
    "X_train = feature_engineering(X_train)\n",
    "X_val = feature_engineering(X_val)\n",
    "\n",
    "X_train.shape, X_val.shape"
   ]
  },
  {
   "cell_type": "code",
   "execution_count": 13,
   "id": "e5f1a770",
   "metadata": {},
   "outputs": [
    {
     "name": "stdout",
     "output_type": "stream",
     "text": [
      "stock_id                     int64\n",
      "seconds_in_bucket            int64\n",
      "imbalance_size             float64\n",
      "imbalance_buy_sell_flag      int64\n",
      "reference_price            float64\n",
      "matched_size               float64\n",
      "far_price                  float64\n",
      "near_price                 float64\n",
      "bid_price                  float64\n",
      "bid_size                   float64\n",
      "ask_price                  float64\n",
      "ask_size                   float64\n",
      "wap                        float64\n",
      "liquidity_imbalance        float64\n",
      "matched_imbalance          float64\n",
      "price_spread               float64\n",
      "market_urgency             float64\n",
      "dtype: object\n"
     ]
    }
   ],
   "source": [
    "print(X_train.dtypes)"
   ]
  },
  {
   "cell_type": "code",
   "execution_count": 14,
   "id": "d57da065-0894-48fc-84c9-2f5b25cec3c9",
   "metadata": {},
   "outputs": [],
   "source": [
    "# Преобразуйте все числа в формат float32, чтобы уменьшить объем памяти.\n",
    "X_train = X_train.astype(np.float32)\n",
    "X_val = X_val.astype(np.float32)"
   ]
  },
  {
   "cell_type": "code",
   "execution_count": 15,
   "id": "ba2bb067",
   "metadata": {},
   "outputs": [
    {
     "name": "stdout",
     "output_type": "stream",
     "text": [
      "stock_id                   False\n",
      "seconds_in_bucket          False\n",
      "imbalance_size             False\n",
      "imbalance_buy_sell_flag    False\n",
      "reference_price            False\n",
      "matched_size               False\n",
      "far_price                  False\n",
      "near_price                 False\n",
      "bid_price                  False\n",
      "bid_size                   False\n",
      "ask_price                  False\n",
      "ask_size                   False\n",
      "wap                        False\n",
      "liquidity_imbalance        False\n",
      "matched_imbalance          False\n",
      "price_spread               False\n",
      "market_urgency             False\n",
      "dtype: bool\n"
     ]
    }
   ],
   "source": [
    "print(X_train.isnull().any()) "
   ]
  },
  {
   "cell_type": "code",
   "execution_count": 16,
   "id": "33a12530-d176-437d-ba2b-46264245e2fb",
   "metadata": {},
   "outputs": [],
   "source": [
    "X_train.replace([np.inf, -np.inf], np.nan, inplace=True) # Заменяем бесконечности на nan\n",
    "X_train = X_train.fillna(X_train.median()) # Заменяем nan на медиану"
   ]
  },
  {
   "cell_type": "code",
   "execution_count": 17,
   "id": "123057fd-288f-46ce-b74b-08ec9543a041",
   "metadata": {},
   "outputs": [],
   "source": [
    "# Проверка на NaN и inf\n",
    "assert not X_train.isnull().values.any(), \"Data still contains NaNs\"\n",
    "assert not np.isinf(X_train.values).any(), \"Data still contains infinity\""
   ]
  },
  {
   "cell_type": "code",
   "execution_count": 18,
   "id": "dee0aee0-438d-4ffd-911c-d20f2266ecb6",
   "metadata": {
    "tags": []
   },
   "outputs": [
    {
     "name": "stdout",
     "output_type": "stream",
     "text": [
      "X train shape: (433149, 17)\n"
     ]
    },
    {
     "data": {
      "text/html": [
       "<div>\n",
       "<style scoped>\n",
       "    .dataframe tbody tr th:only-of-type {\n",
       "        vertical-align: middle;\n",
       "    }\n",
       "\n",
       "    .dataframe tbody tr th {\n",
       "        vertical-align: top;\n",
       "    }\n",
       "\n",
       "    .dataframe thead th {\n",
       "        text-align: right;\n",
       "    }\n",
       "</style>\n",
       "<table border=\"1\" class=\"dataframe\">\n",
       "  <thead>\n",
       "    <tr style=\"text-align: right;\">\n",
       "      <th></th>\n",
       "      <th>stock_id</th>\n",
       "      <th>seconds_in_bucket</th>\n",
       "      <th>imbalance_size</th>\n",
       "      <th>imbalance_buy_sell_flag</th>\n",
       "      <th>reference_price</th>\n",
       "      <th>matched_size</th>\n",
       "      <th>far_price</th>\n",
       "      <th>near_price</th>\n",
       "      <th>bid_price</th>\n",
       "      <th>bid_size</th>\n",
       "      <th>ask_price</th>\n",
       "      <th>ask_size</th>\n",
       "      <th>wap</th>\n",
       "      <th>liquidity_imbalance</th>\n",
       "      <th>matched_imbalance</th>\n",
       "      <th>price_spread</th>\n",
       "      <th>market_urgency</th>\n",
       "    </tr>\n",
       "  </thead>\n",
       "  <tbody>\n",
       "    <tr>\n",
       "      <th>0</th>\n",
       "      <td>0.0</td>\n",
       "      <td>0.0</td>\n",
       "      <td>3.180603e+06</td>\n",
       "      <td>1.0</td>\n",
       "      <td>0.999812</td>\n",
       "      <td>13380277.00</td>\n",
       "      <td>0.999883</td>\n",
       "      <td>0.999889</td>\n",
       "      <td>0.999812</td>\n",
       "      <td>60651.500000</td>\n",
       "      <td>1.000026</td>\n",
       "      <td>8493.030273</td>\n",
       "      <td>1.0</td>\n",
       "      <td>0.754340</td>\n",
       "      <td>-0.615890</td>\n",
       "      <td>0.000214</td>\n",
       "      <td>0.000161</td>\n",
       "    </tr>\n",
       "    <tr>\n",
       "      <th>1</th>\n",
       "      <td>1.0</td>\n",
       "      <td>0.0</td>\n",
       "      <td>1.666039e+05</td>\n",
       "      <td>-1.0</td>\n",
       "      <td>0.999896</td>\n",
       "      <td>1642214.25</td>\n",
       "      <td>0.999883</td>\n",
       "      <td>0.999889</td>\n",
       "      <td>0.999896</td>\n",
       "      <td>3233.040039</td>\n",
       "      <td>1.000660</td>\n",
       "      <td>20605.089844</td>\n",
       "      <td>1.0</td>\n",
       "      <td>-0.728751</td>\n",
       "      <td>-0.815787</td>\n",
       "      <td>0.000764</td>\n",
       "      <td>-0.000557</td>\n",
       "    </tr>\n",
       "    <tr>\n",
       "      <th>2</th>\n",
       "      <td>2.0</td>\n",
       "      <td>0.0</td>\n",
       "      <td>3.028799e+05</td>\n",
       "      <td>-1.0</td>\n",
       "      <td>0.999561</td>\n",
       "      <td>1819368.00</td>\n",
       "      <td>0.999883</td>\n",
       "      <td>0.999889</td>\n",
       "      <td>0.999403</td>\n",
       "      <td>37956.000000</td>\n",
       "      <td>1.000298</td>\n",
       "      <td>18995.000000</td>\n",
       "      <td>1.0</td>\n",
       "      <td>0.332935</td>\n",
       "      <td>-0.714567</td>\n",
       "      <td>0.000895</td>\n",
       "      <td>0.000298</td>\n",
       "    </tr>\n",
       "    <tr>\n",
       "      <th>3</th>\n",
       "      <td>3.0</td>\n",
       "      <td>0.0</td>\n",
       "      <td>1.191768e+07</td>\n",
       "      <td>-1.0</td>\n",
       "      <td>1.000171</td>\n",
       "      <td>18389746.00</td>\n",
       "      <td>0.999883</td>\n",
       "      <td>0.999889</td>\n",
       "      <td>0.999999</td>\n",
       "      <td>2324.899902</td>\n",
       "      <td>1.000214</td>\n",
       "      <td>479032.406250</td>\n",
       "      <td>1.0</td>\n",
       "      <td>-0.990340</td>\n",
       "      <td>-0.213547</td>\n",
       "      <td>0.000215</td>\n",
       "      <td>-0.000213</td>\n",
       "    </tr>\n",
       "    <tr>\n",
       "      <th>4</th>\n",
       "      <td>4.0</td>\n",
       "      <td>0.0</td>\n",
       "      <td>4.475500e+05</td>\n",
       "      <td>-1.0</td>\n",
       "      <td>0.999532</td>\n",
       "      <td>17860614.00</td>\n",
       "      <td>0.999883</td>\n",
       "      <td>0.999889</td>\n",
       "      <td>0.999394</td>\n",
       "      <td>16485.539062</td>\n",
       "      <td>1.000016</td>\n",
       "      <td>434.100006</td>\n",
       "      <td>1.0</td>\n",
       "      <td>0.948687</td>\n",
       "      <td>-0.951109</td>\n",
       "      <td>0.000622</td>\n",
       "      <td>0.000590</td>\n",
       "    </tr>\n",
       "  </tbody>\n",
       "</table>\n",
       "</div>"
      ],
      "text/plain": [
       "   stock_id  seconds_in_bucket  imbalance_size  imbalance_buy_sell_flag  \\\n",
       "0       0.0                0.0    3.180603e+06                      1.0   \n",
       "1       1.0                0.0    1.666039e+05                     -1.0   \n",
       "2       2.0                0.0    3.028799e+05                     -1.0   \n",
       "3       3.0                0.0    1.191768e+07                     -1.0   \n",
       "4       4.0                0.0    4.475500e+05                     -1.0   \n",
       "\n",
       "   reference_price  matched_size  far_price  near_price  bid_price  \\\n",
       "0         0.999812   13380277.00   0.999883    0.999889   0.999812   \n",
       "1         0.999896    1642214.25   0.999883    0.999889   0.999896   \n",
       "2         0.999561    1819368.00   0.999883    0.999889   0.999403   \n",
       "3         1.000171   18389746.00   0.999883    0.999889   0.999999   \n",
       "4         0.999532   17860614.00   0.999883    0.999889   0.999394   \n",
       "\n",
       "       bid_size  ask_price       ask_size  wap  liquidity_imbalance  \\\n",
       "0  60651.500000   1.000026    8493.030273  1.0             0.754340   \n",
       "1   3233.040039   1.000660   20605.089844  1.0            -0.728751   \n",
       "2  37956.000000   1.000298   18995.000000  1.0             0.332935   \n",
       "3   2324.899902   1.000214  479032.406250  1.0            -0.990340   \n",
       "4  16485.539062   1.000016     434.100006  1.0             0.948687   \n",
       "\n",
       "   matched_imbalance  price_spread  market_urgency  \n",
       "0          -0.615890      0.000214        0.000161  \n",
       "1          -0.815787      0.000764       -0.000557  \n",
       "2          -0.714567      0.000895        0.000298  \n",
       "3          -0.213547      0.000215       -0.000213  \n",
       "4          -0.951109      0.000622        0.000590  "
      ]
     },
     "execution_count": 18,
     "metadata": {},
     "output_type": "execute_result"
    }
   ],
   "source": [
    "print(f\"X train shape: {X_train.shape}\")\n",
    "X_train.head(5)"
   ]
  },
  {
   "cell_type": "code",
   "execution_count": 19,
   "id": "830b228a-75fc-4482-a54a-711670b75b82",
   "metadata": {
    "tags": []
   },
   "outputs": [
    {
     "name": "stdout",
     "output_type": "stream",
     "text": [
      "X val shape: (90640, 17)\n"
     ]
    },
    {
     "data": {
      "text/html": [
       "<div>\n",
       "<style scoped>\n",
       "    .dataframe tbody tr th:only-of-type {\n",
       "        vertical-align: middle;\n",
       "    }\n",
       "\n",
       "    .dataframe tbody tr th {\n",
       "        vertical-align: top;\n",
       "    }\n",
       "\n",
       "    .dataframe thead th {\n",
       "        text-align: right;\n",
       "    }\n",
       "</style>\n",
       "<table border=\"1\" class=\"dataframe\">\n",
       "  <thead>\n",
       "    <tr style=\"text-align: right;\">\n",
       "      <th></th>\n",
       "      <th>stock_id</th>\n",
       "      <th>seconds_in_bucket</th>\n",
       "      <th>imbalance_size</th>\n",
       "      <th>imbalance_buy_sell_flag</th>\n",
       "      <th>reference_price</th>\n",
       "      <th>matched_size</th>\n",
       "      <th>far_price</th>\n",
       "      <th>near_price</th>\n",
       "      <th>bid_price</th>\n",
       "      <th>bid_size</th>\n",
       "      <th>ask_price</th>\n",
       "      <th>ask_size</th>\n",
       "      <th>wap</th>\n",
       "      <th>liquidity_imbalance</th>\n",
       "      <th>matched_imbalance</th>\n",
       "      <th>price_spread</th>\n",
       "      <th>market_urgency</th>\n",
       "    </tr>\n",
       "  </thead>\n",
       "  <tbody>\n",
       "    <tr>\n",
       "      <th>433149</th>\n",
       "      <td>0.0</td>\n",
       "      <td>0.0</td>\n",
       "      <td>4.178100e+06</td>\n",
       "      <td>-1.0</td>\n",
       "      <td>1.000630</td>\n",
       "      <td>8.627361e+06</td>\n",
       "      <td>0.999883</td>\n",
       "      <td>0.999889</td>\n",
       "      <td>0.999065</td>\n",
       "      <td>45642.519531</td>\n",
       "      <td>1.000183</td>\n",
       "      <td>8942.000000</td>\n",
       "      <td>1.0</td>\n",
       "      <td>0.672361</td>\n",
       "      <td>-0.347450</td>\n",
       "      <td>0.001118</td>\n",
       "      <td>0.000752</td>\n",
       "    </tr>\n",
       "    <tr>\n",
       "      <th>433150</th>\n",
       "      <td>1.0</td>\n",
       "      <td>0.0</td>\n",
       "      <td>1.434518e+05</td>\n",
       "      <td>-1.0</td>\n",
       "      <td>0.999714</td>\n",
       "      <td>1.173337e+06</td>\n",
       "      <td>0.999883</td>\n",
       "      <td>0.999889</td>\n",
       "      <td>0.999532</td>\n",
       "      <td>17799.480469</td>\n",
       "      <td>1.000866</td>\n",
       "      <td>33006.000000</td>\n",
       "      <td>1.0</td>\n",
       "      <td>-0.299309</td>\n",
       "      <td>-0.782119</td>\n",
       "      <td>0.001334</td>\n",
       "      <td>-0.000399</td>\n",
       "    </tr>\n",
       "    <tr>\n",
       "      <th>433151</th>\n",
       "      <td>2.0</td>\n",
       "      <td>0.0</td>\n",
       "      <td>0.000000e+00</td>\n",
       "      <td>0.0</td>\n",
       "      <td>1.000079</td>\n",
       "      <td>3.612665e+06</td>\n",
       "      <td>0.999883</td>\n",
       "      <td>0.999889</td>\n",
       "      <td>0.999736</td>\n",
       "      <td>10501.200195</td>\n",
       "      <td>1.000079</td>\n",
       "      <td>3151.439941</td>\n",
       "      <td>1.0</td>\n",
       "      <td>0.538340</td>\n",
       "      <td>-1.000000</td>\n",
       "      <td>0.000343</td>\n",
       "      <td>0.000185</td>\n",
       "    </tr>\n",
       "    <tr>\n",
       "      <th>433152</th>\n",
       "      <td>3.0</td>\n",
       "      <td>0.0</td>\n",
       "      <td>1.287998e+07</td>\n",
       "      <td>-1.0</td>\n",
       "      <td>1.000552</td>\n",
       "      <td>3.989465e+07</td>\n",
       "      <td>0.999883</td>\n",
       "      <td>0.999889</td>\n",
       "      <td>0.999994</td>\n",
       "      <td>430.140015</td>\n",
       "      <td>1.000459</td>\n",
       "      <td>32275.500000</td>\n",
       "      <td>1.0</td>\n",
       "      <td>-0.973696</td>\n",
       "      <td>-0.511888</td>\n",
       "      <td>0.000465</td>\n",
       "      <td>-0.000453</td>\n",
       "    </tr>\n",
       "    <tr>\n",
       "      <th>433153</th>\n",
       "      <td>4.0</td>\n",
       "      <td>0.0</td>\n",
       "      <td>1.701372e+06</td>\n",
       "      <td>-1.0</td>\n",
       "      <td>1.000365</td>\n",
       "      <td>1.097762e+07</td>\n",
       "      <td>0.999883</td>\n",
       "      <td>0.999889</td>\n",
       "      <td>0.999512</td>\n",
       "      <td>15231.000000</td>\n",
       "      <td>1.000562</td>\n",
       "      <td>17534.050781</td>\n",
       "      <td>1.0</td>\n",
       "      <td>-0.070290</td>\n",
       "      <td>-0.731623</td>\n",
       "      <td>0.001050</td>\n",
       "      <td>-0.000074</td>\n",
       "    </tr>\n",
       "  </tbody>\n",
       "</table>\n",
       "</div>"
      ],
      "text/plain": [
       "        stock_id  seconds_in_bucket  imbalance_size  imbalance_buy_sell_flag  \\\n",
       "433149       0.0                0.0    4.178100e+06                     -1.0   \n",
       "433150       1.0                0.0    1.434518e+05                     -1.0   \n",
       "433151       2.0                0.0    0.000000e+00                      0.0   \n",
       "433152       3.0                0.0    1.287998e+07                     -1.0   \n",
       "433153       4.0                0.0    1.701372e+06                     -1.0   \n",
       "\n",
       "        reference_price  matched_size  far_price  near_price  bid_price  \\\n",
       "433149         1.000630  8.627361e+06   0.999883    0.999889   0.999065   \n",
       "433150         0.999714  1.173337e+06   0.999883    0.999889   0.999532   \n",
       "433151         1.000079  3.612665e+06   0.999883    0.999889   0.999736   \n",
       "433152         1.000552  3.989465e+07   0.999883    0.999889   0.999994   \n",
       "433153         1.000365  1.097762e+07   0.999883    0.999889   0.999512   \n",
       "\n",
       "            bid_size  ask_price      ask_size  wap  liquidity_imbalance  \\\n",
       "433149  45642.519531   1.000183   8942.000000  1.0             0.672361   \n",
       "433150  17799.480469   1.000866  33006.000000  1.0            -0.299309   \n",
       "433151  10501.200195   1.000079   3151.439941  1.0             0.538340   \n",
       "433152    430.140015   1.000459  32275.500000  1.0            -0.973696   \n",
       "433153  15231.000000   1.000562  17534.050781  1.0            -0.070290   \n",
       "\n",
       "        matched_imbalance  price_spread  market_urgency  \n",
       "433149          -0.347450      0.001118        0.000752  \n",
       "433150          -0.782119      0.001334       -0.000399  \n",
       "433151          -1.000000      0.000343        0.000185  \n",
       "433152          -0.511888      0.000465       -0.000453  \n",
       "433153          -0.731623      0.001050       -0.000074  "
      ]
     },
     "execution_count": 19,
     "metadata": {},
     "output_type": "execute_result"
    }
   ],
   "source": [
    "print(f\"X val shape: {X_val.shape}\")\n",
    "X_val.head(5)"
   ]
  },
  {
   "cell_type": "markdown",
   "id": "06b7da60-79ab-4ad3-afcb-5264ea8c96ff",
   "metadata": {},
   "source": [
    "# RandomForestRegressor"
   ]
  },
  {
   "cell_type": "code",
   "execution_count": 20,
   "id": "ddde5e4e-31d9-43ae-9d54-ee9ccdfd79b6",
   "metadata": {},
   "outputs": [],
   "source": [
    "import numpy as np\n",
    "import pandas as pd\n",
    "from sklearn.ensemble import RandomForestRegressor, StackingRegressor\n",
    "from sklearn.metrics import mean_absolute_error\n",
    "from sklearn.model_selection import cross_val_score\n",
    "from hyperopt import hp, fmin, tpe, Trials, STATUS_OK\n",
    "from sklearn.model_selection import GroupKFold, cross_val_score"
   ]
  },
  {
   "cell_type": "code",
   "execution_count": 26,
   "id": "c767ecf7-4fa8-46cf-b835-844fd889c858",
   "metadata": {},
   "outputs": [],
   "source": [
    "space = {\n",
    "    'max_depth': hp.choice('max_depth', range(5, 15, 2)),\n",
    "    'min_samples_split': hp.choice('min_samples_split', [5, 10, 20]),\n",
    "    'min_samples_leaf': hp.choice('min_samples_leaf', range(1, 5, 1))\n",
    "}"
   ]
  },
  {
   "cell_type": "code",
   "execution_count": 27,
   "id": "007f0bc2-5efb-48fd-825e-d47f226f24be",
   "metadata": {},
   "outputs": [],
   "source": [
    "group_column = 'stock_id' # выбераем столбец, который лучше всего представляет группы\n",
    "groups = X_train[group_column].values"
   ]
  },
  {
   "cell_type": "code",
   "execution_count": 28,
   "id": "93b61aff-6438-4f88-b260-662df57c1e42",
   "metadata": {},
   "outputs": [],
   "source": [
    "def objective(params):\n",
    "    model = RandomForestRegressor(**params)\n",
    "    # groups это одномерный массив меток групп для GroupKFold\n",
    "    gkf = GroupKFold(n_splits = 5)  #  количество разделений\n",
    "    mae_scores = cross_val_score(model, X_train, y_train, cv = gkf, groups = groups, scoring = 'neg_mean_absolute_error')\n",
    "    mae_score = np.mean(mae_scores)  # оценки отрицательные\n",
    "    return {'loss': mae_score, 'status': STATUS_OK}\n"
   ]
  },
  {
   "cell_type": "code",
   "execution_count": null,
   "id": "670500cc-3726-4ac0-a9e3-2d585a760d9c",
   "metadata": {
    "tags": []
   },
   "outputs": [
    {
     "name": "stdout",
     "output_type": "stream",
     "text": [
      "  0%|          | 0/20 [00:00<?, ?trial/s, best loss=?]"
     ]
    }
   ],
   "source": [
    "rf_trials = Trials()\n",
    "rf_best_params = fmin(fn=objective, # Функцяи для которой ищем лучшие параметры\n",
    "                   space=space, # Параметры которые перебираем\n",
    "                   algo=tpe.suggest, # байесовская оптимизация\n",
    "                   max_evals=20, #Количество запусков\n",
    "                   trials=rf_trials) # объект для сохранения истории поиска"
   ]
  },
  {
   "cell_type": "code",
   "execution_count": 176,
   "id": "f4ac4e28",
   "metadata": {},
   "outputs": [
    {
     "name": "stdout",
     "output_type": "stream",
     "text": [
      "best paarmeters: {'max_depth': 4, 'n_estimators': 1}\n"
     ]
    }
   ],
   "source": [
    "print(f'best paarmeters: {rf_best_params}')"
   ]
  },
  {
   "cell_type": "code",
   "execution_count": 177,
   "id": "96731a80-d8b1-437b-881a-ba47b1599ae5",
   "metadata": {},
   "outputs": [
    {
     "data": {
      "text/html": [
       "<style>#sk-container-id-3 {color: black;}#sk-container-id-3 pre{padding: 0;}#sk-container-id-3 div.sk-toggleable {background-color: white;}#sk-container-id-3 label.sk-toggleable__label {cursor: pointer;display: block;width: 100%;margin-bottom: 0;padding: 0.3em;box-sizing: border-box;text-align: center;}#sk-container-id-3 label.sk-toggleable__label-arrow:before {content: \"▸\";float: left;margin-right: 0.25em;color: #696969;}#sk-container-id-3 label.sk-toggleable__label-arrow:hover:before {color: black;}#sk-container-id-3 div.sk-estimator:hover label.sk-toggleable__label-arrow:before {color: black;}#sk-container-id-3 div.sk-toggleable__content {max-height: 0;max-width: 0;overflow: hidden;text-align: left;background-color: #f0f8ff;}#sk-container-id-3 div.sk-toggleable__content pre {margin: 0.2em;color: black;border-radius: 0.25em;background-color: #f0f8ff;}#sk-container-id-3 input.sk-toggleable__control:checked~div.sk-toggleable__content {max-height: 200px;max-width: 100%;overflow: auto;}#sk-container-id-3 input.sk-toggleable__control:checked~label.sk-toggleable__label-arrow:before {content: \"▾\";}#sk-container-id-3 div.sk-estimator input.sk-toggleable__control:checked~label.sk-toggleable__label {background-color: #d4ebff;}#sk-container-id-3 div.sk-label input.sk-toggleable__control:checked~label.sk-toggleable__label {background-color: #d4ebff;}#sk-container-id-3 input.sk-hidden--visually {border: 0;clip: rect(1px 1px 1px 1px);clip: rect(1px, 1px, 1px, 1px);height: 1px;margin: -1px;overflow: hidden;padding: 0;position: absolute;width: 1px;}#sk-container-id-3 div.sk-estimator {font-family: monospace;background-color: #f0f8ff;border: 1px dotted black;border-radius: 0.25em;box-sizing: border-box;margin-bottom: 0.5em;}#sk-container-id-3 div.sk-estimator:hover {background-color: #d4ebff;}#sk-container-id-3 div.sk-parallel-item::after {content: \"\";width: 100%;border-bottom: 1px solid gray;flex-grow: 1;}#sk-container-id-3 div.sk-label:hover label.sk-toggleable__label {background-color: #d4ebff;}#sk-container-id-3 div.sk-serial::before {content: \"\";position: absolute;border-left: 1px solid gray;box-sizing: border-box;top: 0;bottom: 0;left: 50%;z-index: 0;}#sk-container-id-3 div.sk-serial {display: flex;flex-direction: column;align-items: center;background-color: white;padding-right: 0.2em;padding-left: 0.2em;position: relative;}#sk-container-id-3 div.sk-item {position: relative;z-index: 1;}#sk-container-id-3 div.sk-parallel {display: flex;align-items: stretch;justify-content: center;background-color: white;position: relative;}#sk-container-id-3 div.sk-item::before, #sk-container-id-3 div.sk-parallel-item::before {content: \"\";position: absolute;border-left: 1px solid gray;box-sizing: border-box;top: 0;bottom: 0;left: 50%;z-index: -1;}#sk-container-id-3 div.sk-parallel-item {display: flex;flex-direction: column;z-index: 1;position: relative;background-color: white;}#sk-container-id-3 div.sk-parallel-item:first-child::after {align-self: flex-end;width: 50%;}#sk-container-id-3 div.sk-parallel-item:last-child::after {align-self: flex-start;width: 50%;}#sk-container-id-3 div.sk-parallel-item:only-child::after {width: 0;}#sk-container-id-3 div.sk-dashed-wrapped {border: 1px dashed gray;margin: 0 0.4em 0.5em 0.4em;box-sizing: border-box;padding-bottom: 0.4em;background-color: white;}#sk-container-id-3 div.sk-label label {font-family: monospace;font-weight: bold;display: inline-block;line-height: 1.2em;}#sk-container-id-3 div.sk-label-container {text-align: center;}#sk-container-id-3 div.sk-container {/* jupyter's `normalize.less` sets `[hidden] { display: none; }` but bootstrap.min.css set `[hidden] { display: none !important; }` so we also need the `!important` here to be able to override the default hidden behavior on the sphinx rendered scikit-learn.org. See: https://github.com/scikit-learn/scikit-learn/issues/21755 */display: inline-block !important;position: relative;}#sk-container-id-3 div.sk-text-repr-fallback {display: none;}</style><div id=\"sk-container-id-3\" class=\"sk-top-container\"><div class=\"sk-text-repr-fallback\"><pre>RandomForestRegressor(max_depth=4, n_estimators=1)</pre><b>In a Jupyter environment, please rerun this cell to show the HTML representation or trust the notebook. <br />On GitHub, the HTML representation is unable to render, please try loading this page with nbviewer.org.</b></div><div class=\"sk-container\" hidden><div class=\"sk-item\"><div class=\"sk-estimator sk-toggleable\"><input class=\"sk-toggleable__control sk-hidden--visually\" id=\"sk-estimator-id-6\" type=\"checkbox\" checked><label for=\"sk-estimator-id-6\" class=\"sk-toggleable__label sk-toggleable__label-arrow\">RandomForestRegressor</label><div class=\"sk-toggleable__content\"><pre>RandomForestRegressor(max_depth=4, n_estimators=1)</pre></div></div></div></div></div>"
      ],
      "text/plain": [
       "RandomForestRegressor(max_depth=4, n_estimators=1)"
      ]
     },
     "execution_count": 177,
     "metadata": {},
     "output_type": "execute_result"
    }
   ],
   "source": [
    "rf_model = RandomForestRegressor(**rf_best_params)\n",
    "rf_model.fit(X_train, y_train)"
   ]
  },
  {
   "cell_type": "code",
   "execution_count": 178,
   "id": "28d50633",
   "metadata": {},
   "outputs": [
    {
     "name": "stdout",
     "output_type": "stream",
     "text": [
      "Mean Absolute Error: 5.358939788088822\n"
     ]
    }
   ],
   "source": [
    "rf_preds = rf_model.predict(X_val)\n",
    "rf_mae = mean_absolute_error(y_val, rf_preds)\n",
    "print(f'Mean Absolute Error: {rf_mae}')"
   ]
  },
  {
   "cell_type": "markdown",
   "id": "b03f0fae-fcca-44fc-9314-f704d0e8dddc",
   "metadata": {},
   "source": [
    "# xgboost"
   ]
  },
  {
   "cell_type": "code",
   "execution_count": 179,
   "id": "5ce97201-dffa-4805-963d-a5bedf9fe4be",
   "metadata": {},
   "outputs": [],
   "source": [
    "import numpy as np\n",
    "import xgboost as xgb\n",
    "from hyperopt import hp, tpe, fmin, Trials, STATUS_OK\n",
    "from sklearn.metrics import mean_absolute_error\n",
    "from sklearn.model_selection import GroupKFold, cross_val_score\n",
    "from sklearn.ensemble import StackingRegressor\n"
   ]
  },
  {
   "cell_type": "code",
   "execution_count": 180,
   "id": "e2ed2330-ffa8-407e-bcbf-b20354ef9775",
   "metadata": {},
   "outputs": [],
   "source": [
    "space = {\n",
    "    'learning rate': hp.choice('learning rate', [0.01, 0.1, 0.5, 1]),\n",
    "    'max_depth': hp.choice('max_depth', np.arange(5, 15, dtype=int)),\n",
    "    'min_samples_split': hp.choice('min_samples_split', [5, 10, 15]),    \n",
    "    #Если в результате шага разбиения дерева получается листовой узел с суммой весов экземпляров меньше min_child_weight, то процесс построения прекращает дальнейшее разбиение.\n",
    "}"
   ]
  },
  {
   "cell_type": "code",
   "execution_count": 181,
   "id": "fb508c7c-f1a3-4662-b694-b6fd0780dfc1",
   "metadata": {},
   "outputs": [],
   "source": [
    "group_column = 'stock_id'\n",
    "groups = X_train[group_column].values"
   ]
  },
  {
   "cell_type": "code",
   "execution_count": 182,
   "id": "c8720112-d6d8-4e00-8705-55995499d406",
   "metadata": {},
   "outputs": [],
   "source": [
    "def objective(params):\n",
    "    params['max_depth'] = int(params['max_depth'])\n",
    "    params['min_samples_split'] = int(params['min_samples_split'])\n",
    "    params['learning rate'] = int(params['learning rate'])\n",
    "    \n",
    "    clf = xgb.XGBRegressor(**params)\n",
    "    gkf = GroupKFold(n_splits=5) \n",
    "    mae_scores = cross_val_score(clf, X_train, y_train, cv=gkf, groups=groups, scoring='neg_mean_absolute_error')\n",
    "    mae_score = np.mean(mae_scores) \n",
    "    return {'loss': mae_score, 'status': STATUS_OK}\n"
   ]
  },
  {
   "cell_type": "code",
   "execution_count": 183,
   "id": "6e20202c-2479-4d3e-99f9-6613bd2e27bb",
   "metadata": {},
   "outputs": [
    {
     "name": "stdout",
     "output_type": "stream",
     "text": [
      "100%|██████████| 10/10 [02:17<00:00, 13.80s/trial, best loss: -5.834676326496631]\n"
     ]
    }
   ],
   "source": [
    "xgb_trials = Trials()\n",
    "xgb_best_params = fmin(fn=objective,\n",
    "                   space=space,\n",
    "                   algo=tpe.suggest,\n",
    "                   max_evals=10, \n",
    "                   trials=xgb_trials)"
   ]
  },
  {
   "cell_type": "code",
   "execution_count": 190,
   "id": "582eb9a5",
   "metadata": {},
   "outputs": [
    {
     "name": "stdout",
     "output_type": "stream",
     "text": [
      "best paarmeters: {'max_depth': 9, 'min_child_weight': 1}\n"
     ]
    }
   ],
   "source": [
    "print(f'best paarmeters: {xgb_best_params}')"
   ]
  },
  {
   "cell_type": "code",
   "execution_count": 186,
   "id": "784862b6-3803-4c0d-8aec-3e4779cbfd9c",
   "metadata": {
    "tags": []
   },
   "outputs": [
    {
     "data": {
      "text/html": [
       "<style>#sk-container-id-5 {color: black;}#sk-container-id-5 pre{padding: 0;}#sk-container-id-5 div.sk-toggleable {background-color: white;}#sk-container-id-5 label.sk-toggleable__label {cursor: pointer;display: block;width: 100%;margin-bottom: 0;padding: 0.3em;box-sizing: border-box;text-align: center;}#sk-container-id-5 label.sk-toggleable__label-arrow:before {content: \"▸\";float: left;margin-right: 0.25em;color: #696969;}#sk-container-id-5 label.sk-toggleable__label-arrow:hover:before {color: black;}#sk-container-id-5 div.sk-estimator:hover label.sk-toggleable__label-arrow:before {color: black;}#sk-container-id-5 div.sk-toggleable__content {max-height: 0;max-width: 0;overflow: hidden;text-align: left;background-color: #f0f8ff;}#sk-container-id-5 div.sk-toggleable__content pre {margin: 0.2em;color: black;border-radius: 0.25em;background-color: #f0f8ff;}#sk-container-id-5 input.sk-toggleable__control:checked~div.sk-toggleable__content {max-height: 200px;max-width: 100%;overflow: auto;}#sk-container-id-5 input.sk-toggleable__control:checked~label.sk-toggleable__label-arrow:before {content: \"▾\";}#sk-container-id-5 div.sk-estimator input.sk-toggleable__control:checked~label.sk-toggleable__label {background-color: #d4ebff;}#sk-container-id-5 div.sk-label input.sk-toggleable__control:checked~label.sk-toggleable__label {background-color: #d4ebff;}#sk-container-id-5 input.sk-hidden--visually {border: 0;clip: rect(1px 1px 1px 1px);clip: rect(1px, 1px, 1px, 1px);height: 1px;margin: -1px;overflow: hidden;padding: 0;position: absolute;width: 1px;}#sk-container-id-5 div.sk-estimator {font-family: monospace;background-color: #f0f8ff;border: 1px dotted black;border-radius: 0.25em;box-sizing: border-box;margin-bottom: 0.5em;}#sk-container-id-5 div.sk-estimator:hover {background-color: #d4ebff;}#sk-container-id-5 div.sk-parallel-item::after {content: \"\";width: 100%;border-bottom: 1px solid gray;flex-grow: 1;}#sk-container-id-5 div.sk-label:hover label.sk-toggleable__label {background-color: #d4ebff;}#sk-container-id-5 div.sk-serial::before {content: \"\";position: absolute;border-left: 1px solid gray;box-sizing: border-box;top: 0;bottom: 0;left: 50%;z-index: 0;}#sk-container-id-5 div.sk-serial {display: flex;flex-direction: column;align-items: center;background-color: white;padding-right: 0.2em;padding-left: 0.2em;position: relative;}#sk-container-id-5 div.sk-item {position: relative;z-index: 1;}#sk-container-id-5 div.sk-parallel {display: flex;align-items: stretch;justify-content: center;background-color: white;position: relative;}#sk-container-id-5 div.sk-item::before, #sk-container-id-5 div.sk-parallel-item::before {content: \"\";position: absolute;border-left: 1px solid gray;box-sizing: border-box;top: 0;bottom: 0;left: 50%;z-index: -1;}#sk-container-id-5 div.sk-parallel-item {display: flex;flex-direction: column;z-index: 1;position: relative;background-color: white;}#sk-container-id-5 div.sk-parallel-item:first-child::after {align-self: flex-end;width: 50%;}#sk-container-id-5 div.sk-parallel-item:last-child::after {align-self: flex-start;width: 50%;}#sk-container-id-5 div.sk-parallel-item:only-child::after {width: 0;}#sk-container-id-5 div.sk-dashed-wrapped {border: 1px dashed gray;margin: 0 0.4em 0.5em 0.4em;box-sizing: border-box;padding-bottom: 0.4em;background-color: white;}#sk-container-id-5 div.sk-label label {font-family: monospace;font-weight: bold;display: inline-block;line-height: 1.2em;}#sk-container-id-5 div.sk-label-container {text-align: center;}#sk-container-id-5 div.sk-container {/* jupyter's `normalize.less` sets `[hidden] { display: none; }` but bootstrap.min.css set `[hidden] { display: none !important; }` so we also need the `!important` here to be able to override the default hidden behavior on the sphinx rendered scikit-learn.org. See: https://github.com/scikit-learn/scikit-learn/issues/21755 */display: inline-block !important;position: relative;}#sk-container-id-5 div.sk-text-repr-fallback {display: none;}</style><div id=\"sk-container-id-5\" class=\"sk-top-container\"><div class=\"sk-text-repr-fallback\"><pre>XGBRegressor(base_score=None, booster=None, callbacks=None,\n",
       "             colsample_bylevel=None, colsample_bynode=None,\n",
       "             colsample_bytree=None, device=None, early_stopping_rounds=None,\n",
       "             enable_categorical=False, eval_metric=None, feature_types=None,\n",
       "             gamma=None, grow_policy=None, importance_type=None,\n",
       "             interaction_constraints=None, learning_rate=None, max_bin=None,\n",
       "             max_cat_threshold=None, max_cat_to_onehot=None,\n",
       "             max_delta_step=None, max_depth=9, max_leaves=None,\n",
       "             min_child_weight=1, missing=nan, monotone_constraints=None,\n",
       "             multi_strategy=None, n_estimators=None, n_jobs=None,\n",
       "             num_parallel_tree=None, random_state=None, ...)</pre><b>In a Jupyter environment, please rerun this cell to show the HTML representation or trust the notebook. <br />On GitHub, the HTML representation is unable to render, please try loading this page with nbviewer.org.</b></div><div class=\"sk-container\" hidden><div class=\"sk-item\"><div class=\"sk-estimator sk-toggleable\"><input class=\"sk-toggleable__control sk-hidden--visually\" id=\"sk-estimator-id-8\" type=\"checkbox\" checked><label for=\"sk-estimator-id-8\" class=\"sk-toggleable__label sk-toggleable__label-arrow\">XGBRegressor</label><div class=\"sk-toggleable__content\"><pre>XGBRegressor(base_score=None, booster=None, callbacks=None,\n",
       "             colsample_bylevel=None, colsample_bynode=None,\n",
       "             colsample_bytree=None, device=None, early_stopping_rounds=None,\n",
       "             enable_categorical=False, eval_metric=None, feature_types=None,\n",
       "             gamma=None, grow_policy=None, importance_type=None,\n",
       "             interaction_constraints=None, learning_rate=None, max_bin=None,\n",
       "             max_cat_threshold=None, max_cat_to_onehot=None,\n",
       "             max_delta_step=None, max_depth=9, max_leaves=None,\n",
       "             min_child_weight=1, missing=nan, monotone_constraints=None,\n",
       "             multi_strategy=None, n_estimators=None, n_jobs=None,\n",
       "             num_parallel_tree=None, random_state=None, ...)</pre></div></div></div></div></div>"
      ],
      "text/plain": [
       "XGBRegressor(base_score=None, booster=None, callbacks=None,\n",
       "             colsample_bylevel=None, colsample_bynode=None,\n",
       "             colsample_bytree=None, device=None, early_stopping_rounds=None,\n",
       "             enable_categorical=False, eval_metric=None, feature_types=None,\n",
       "             gamma=None, grow_policy=None, importance_type=None,\n",
       "             interaction_constraints=None, learning_rate=None, max_bin=None,\n",
       "             max_cat_threshold=None, max_cat_to_onehot=None,\n",
       "             max_delta_step=None, max_depth=9, max_leaves=None,\n",
       "             min_child_weight=1, missing=nan, monotone_constraints=None,\n",
       "             multi_strategy=None, n_estimators=None, n_jobs=None,\n",
       "             num_parallel_tree=None, random_state=None, ...)"
      ]
     },
     "execution_count": 186,
     "metadata": {},
     "output_type": "execute_result"
    }
   ],
   "source": [
    "xgb_best_params['max_depth'] = int(xgb_best_params['max_depth'])\n",
    "xgb_best_params['min_child_weight'] = int(xgb_best_params['min_child_weight'])\n",
    "\n",
    "\n",
    "xgb_model = xgb.XGBRegressor(**xgb_best_params)\n",
    "xgb_model.fit(X_train, y_train)"
   ]
  },
  {
   "cell_type": "code",
   "execution_count": 187,
   "id": "7ae0cdd4-94f6-496a-b858-e836281f520d",
   "metadata": {},
   "outputs": [
    {
     "name": "stdout",
     "output_type": "stream",
     "text": [
      "Mean Absolute Error: 5.588524584558322\n"
     ]
    }
   ],
   "source": [
    "xgb_preds = xgb_model.predict(X_val)\n",
    "xgb_mae = mean_absolute_error(y_val, xgb_preds)\n",
    "print(f'Mean Absolute Error: {xgb_mae}')"
   ]
  },
  {
   "cell_type": "code",
   "execution_count": 188,
   "id": "10edd57b-4a62-47b2-9c36-7a18fb38cb6b",
   "metadata": {},
   "outputs": [
    {
     "data": {
      "text/html": [
       "<style>#sk-container-id-6 {color: black;}#sk-container-id-6 pre{padding: 0;}#sk-container-id-6 div.sk-toggleable {background-color: white;}#sk-container-id-6 label.sk-toggleable__label {cursor: pointer;display: block;width: 100%;margin-bottom: 0;padding: 0.3em;box-sizing: border-box;text-align: center;}#sk-container-id-6 label.sk-toggleable__label-arrow:before {content: \"▸\";float: left;margin-right: 0.25em;color: #696969;}#sk-container-id-6 label.sk-toggleable__label-arrow:hover:before {color: black;}#sk-container-id-6 div.sk-estimator:hover label.sk-toggleable__label-arrow:before {color: black;}#sk-container-id-6 div.sk-toggleable__content {max-height: 0;max-width: 0;overflow: hidden;text-align: left;background-color: #f0f8ff;}#sk-container-id-6 div.sk-toggleable__content pre {margin: 0.2em;color: black;border-radius: 0.25em;background-color: #f0f8ff;}#sk-container-id-6 input.sk-toggleable__control:checked~div.sk-toggleable__content {max-height: 200px;max-width: 100%;overflow: auto;}#sk-container-id-6 input.sk-toggleable__control:checked~label.sk-toggleable__label-arrow:before {content: \"▾\";}#sk-container-id-6 div.sk-estimator input.sk-toggleable__control:checked~label.sk-toggleable__label {background-color: #d4ebff;}#sk-container-id-6 div.sk-label input.sk-toggleable__control:checked~label.sk-toggleable__label {background-color: #d4ebff;}#sk-container-id-6 input.sk-hidden--visually {border: 0;clip: rect(1px 1px 1px 1px);clip: rect(1px, 1px, 1px, 1px);height: 1px;margin: -1px;overflow: hidden;padding: 0;position: absolute;width: 1px;}#sk-container-id-6 div.sk-estimator {font-family: monospace;background-color: #f0f8ff;border: 1px dotted black;border-radius: 0.25em;box-sizing: border-box;margin-bottom: 0.5em;}#sk-container-id-6 div.sk-estimator:hover {background-color: #d4ebff;}#sk-container-id-6 div.sk-parallel-item::after {content: \"\";width: 100%;border-bottom: 1px solid gray;flex-grow: 1;}#sk-container-id-6 div.sk-label:hover label.sk-toggleable__label {background-color: #d4ebff;}#sk-container-id-6 div.sk-serial::before {content: \"\";position: absolute;border-left: 1px solid gray;box-sizing: border-box;top: 0;bottom: 0;left: 50%;z-index: 0;}#sk-container-id-6 div.sk-serial {display: flex;flex-direction: column;align-items: center;background-color: white;padding-right: 0.2em;padding-left: 0.2em;position: relative;}#sk-container-id-6 div.sk-item {position: relative;z-index: 1;}#sk-container-id-6 div.sk-parallel {display: flex;align-items: stretch;justify-content: center;background-color: white;position: relative;}#sk-container-id-6 div.sk-item::before, #sk-container-id-6 div.sk-parallel-item::before {content: \"\";position: absolute;border-left: 1px solid gray;box-sizing: border-box;top: 0;bottom: 0;left: 50%;z-index: -1;}#sk-container-id-6 div.sk-parallel-item {display: flex;flex-direction: column;z-index: 1;position: relative;background-color: white;}#sk-container-id-6 div.sk-parallel-item:first-child::after {align-self: flex-end;width: 50%;}#sk-container-id-6 div.sk-parallel-item:last-child::after {align-self: flex-start;width: 50%;}#sk-container-id-6 div.sk-parallel-item:only-child::after {width: 0;}#sk-container-id-6 div.sk-dashed-wrapped {border: 1px dashed gray;margin: 0 0.4em 0.5em 0.4em;box-sizing: border-box;padding-bottom: 0.4em;background-color: white;}#sk-container-id-6 div.sk-label label {font-family: monospace;font-weight: bold;display: inline-block;line-height: 1.2em;}#sk-container-id-6 div.sk-label-container {text-align: center;}#sk-container-id-6 div.sk-container {/* jupyter's `normalize.less` sets `[hidden] { display: none; }` but bootstrap.min.css set `[hidden] { display: none !important; }` so we also need the `!important` here to be able to override the default hidden behavior on the sphinx rendered scikit-learn.org. See: https://github.com/scikit-learn/scikit-learn/issues/21755 */display: inline-block !important;position: relative;}#sk-container-id-6 div.sk-text-repr-fallback {display: none;}</style><div id=\"sk-container-id-6\" class=\"sk-top-container\"><div class=\"sk-text-repr-fallback\"><pre>StackingRegressor(estimators=[(&#x27;xgb&#x27;,\n",
       "                               XGBRegressor(base_score=None, booster=None,\n",
       "                                            callbacks=None,\n",
       "                                            colsample_bylevel=None,\n",
       "                                            colsample_bynode=None,\n",
       "                                            colsample_bytree=None, device=None,\n",
       "                                            early_stopping_rounds=None,\n",
       "                                            enable_categorical=False,\n",
       "                                            eval_metric=None,\n",
       "                                            feature_types=None, gamma=None,\n",
       "                                            grow_policy=None,\n",
       "                                            importance_type=None,\n",
       "                                            interaction_constraints=None,\n",
       "                                            learning_ra...bin=None,\n",
       "                                            max_cat_threshold=None,\n",
       "                                            max_cat_to_onehot=None,\n",
       "                                            max_delta_step=None, max_depth=9,\n",
       "                                            max_leaves=None, min_child_weight=1,\n",
       "                                            missing=nan,\n",
       "                                            monotone_constraints=None,\n",
       "                                            multi_strategy=None,\n",
       "                                            n_estimators=None, n_jobs=None,\n",
       "                                            num_parallel_tree=None,\n",
       "                                            random_state=None, ...)),\n",
       "                              (&#x27;rf&#x27;,\n",
       "                               RandomForestRegressor(max_depth=4,\n",
       "                                                     n_estimators=1))],\n",
       "                  final_estimator=LinearRegression())</pre><b>In a Jupyter environment, please rerun this cell to show the HTML representation or trust the notebook. <br />On GitHub, the HTML representation is unable to render, please try loading this page with nbviewer.org.</b></div><div class=\"sk-container\" hidden><div class=\"sk-item sk-dashed-wrapped\"><div class=\"sk-label-container\"><div class=\"sk-label sk-toggleable\"><input class=\"sk-toggleable__control sk-hidden--visually\" id=\"sk-estimator-id-9\" type=\"checkbox\" ><label for=\"sk-estimator-id-9\" class=\"sk-toggleable__label sk-toggleable__label-arrow\">StackingRegressor</label><div class=\"sk-toggleable__content\"><pre>StackingRegressor(estimators=[(&#x27;xgb&#x27;,\n",
       "                               XGBRegressor(base_score=None, booster=None,\n",
       "                                            callbacks=None,\n",
       "                                            colsample_bylevel=None,\n",
       "                                            colsample_bynode=None,\n",
       "                                            colsample_bytree=None, device=None,\n",
       "                                            early_stopping_rounds=None,\n",
       "                                            enable_categorical=False,\n",
       "                                            eval_metric=None,\n",
       "                                            feature_types=None, gamma=None,\n",
       "                                            grow_policy=None,\n",
       "                                            importance_type=None,\n",
       "                                            interaction_constraints=None,\n",
       "                                            learning_ra...bin=None,\n",
       "                                            max_cat_threshold=None,\n",
       "                                            max_cat_to_onehot=None,\n",
       "                                            max_delta_step=None, max_depth=9,\n",
       "                                            max_leaves=None, min_child_weight=1,\n",
       "                                            missing=nan,\n",
       "                                            monotone_constraints=None,\n",
       "                                            multi_strategy=None,\n",
       "                                            n_estimators=None, n_jobs=None,\n",
       "                                            num_parallel_tree=None,\n",
       "                                            random_state=None, ...)),\n",
       "                              (&#x27;rf&#x27;,\n",
       "                               RandomForestRegressor(max_depth=4,\n",
       "                                                     n_estimators=1))],\n",
       "                  final_estimator=LinearRegression())</pre></div></div></div><div class=\"sk-serial\"><div class=\"sk-item\"><div class=\"sk-parallel\"><div class=\"sk-parallel-item\"><div class=\"sk-item\"><div class=\"sk-label-container\"><div class=\"sk-label sk-toggleable\"><label>xgb</label></div></div><div class=\"sk-serial\"><div class=\"sk-item\"><div class=\"sk-estimator sk-toggleable\"><input class=\"sk-toggleable__control sk-hidden--visually\" id=\"sk-estimator-id-10\" type=\"checkbox\" ><label for=\"sk-estimator-id-10\" class=\"sk-toggleable__label sk-toggleable__label-arrow\">XGBRegressor</label><div class=\"sk-toggleable__content\"><pre>XGBRegressor(base_score=None, booster=None, callbacks=None,\n",
       "             colsample_bylevel=None, colsample_bynode=None,\n",
       "             colsample_bytree=None, device=None, early_stopping_rounds=None,\n",
       "             enable_categorical=False, eval_metric=None, feature_types=None,\n",
       "             gamma=None, grow_policy=None, importance_type=None,\n",
       "             interaction_constraints=None, learning_rate=None, max_bin=None,\n",
       "             max_cat_threshold=None, max_cat_to_onehot=None,\n",
       "             max_delta_step=None, max_depth=9, max_leaves=None,\n",
       "             min_child_weight=1, missing=nan, monotone_constraints=None,\n",
       "             multi_strategy=None, n_estimators=None, n_jobs=None,\n",
       "             num_parallel_tree=None, random_state=None, ...)</pre></div></div></div></div></div></div><div class=\"sk-parallel-item\"><div class=\"sk-item\"><div class=\"sk-label-container\"><div class=\"sk-label sk-toggleable\"><label>rf</label></div></div><div class=\"sk-serial\"><div class=\"sk-item\"><div class=\"sk-estimator sk-toggleable\"><input class=\"sk-toggleable__control sk-hidden--visually\" id=\"sk-estimator-id-11\" type=\"checkbox\" ><label for=\"sk-estimator-id-11\" class=\"sk-toggleable__label sk-toggleable__label-arrow\">RandomForestRegressor</label><div class=\"sk-toggleable__content\"><pre>RandomForestRegressor(max_depth=4, n_estimators=1)</pre></div></div></div></div></div></div></div></div><div class=\"sk-item\"><div class=\"sk-parallel\"><div class=\"sk-parallel-item\"><div class=\"sk-item\"><div class=\"sk-label-container\"><div class=\"sk-label sk-toggleable\"><label>final_estimator</label></div></div><div class=\"sk-serial\"><div class=\"sk-item\"><div class=\"sk-estimator sk-toggleable\"><input class=\"sk-toggleable__control sk-hidden--visually\" id=\"sk-estimator-id-12\" type=\"checkbox\" ><label for=\"sk-estimator-id-12\" class=\"sk-toggleable__label sk-toggleable__label-arrow\">LinearRegression</label><div class=\"sk-toggleable__content\"><pre>LinearRegression()</pre></div></div></div></div></div></div></div></div></div></div></div></div>"
      ],
      "text/plain": [
       "StackingRegressor(estimators=[('xgb',\n",
       "                               XGBRegressor(base_score=None, booster=None,\n",
       "                                            callbacks=None,\n",
       "                                            colsample_bylevel=None,\n",
       "                                            colsample_bynode=None,\n",
       "                                            colsample_bytree=None, device=None,\n",
       "                                            early_stopping_rounds=None,\n",
       "                                            enable_categorical=False,\n",
       "                                            eval_metric=None,\n",
       "                                            feature_types=None, gamma=None,\n",
       "                                            grow_policy=None,\n",
       "                                            importance_type=None,\n",
       "                                            interaction_constraints=None,\n",
       "                                            learning_ra...bin=None,\n",
       "                                            max_cat_threshold=None,\n",
       "                                            max_cat_to_onehot=None,\n",
       "                                            max_delta_step=None, max_depth=9,\n",
       "                                            max_leaves=None, min_child_weight=1,\n",
       "                                            missing=nan,\n",
       "                                            monotone_constraints=None,\n",
       "                                            multi_strategy=None,\n",
       "                                            n_estimators=None, n_jobs=None,\n",
       "                                            num_parallel_tree=None,\n",
       "                                            random_state=None, ...)),\n",
       "                              ('rf',\n",
       "                               RandomForestRegressor(max_depth=4,\n",
       "                                                     n_estimators=1))],\n",
       "                  final_estimator=LinearRegression())"
      ]
     },
     "execution_count": 188,
     "metadata": {},
     "output_type": "execute_result"
    }
   ],
   "source": [
    "from sklearn.ensemble import StackingRegressor\n",
    "from sklearn.linear_model import LinearRegression\n",
    "from sklearn.ensemble import RandomForestRegressor\n",
    "import xgboost as xgb\n",
    "\n",
    "xgb_best_params['max_depth'] = int(xgb_best_params['max_depth'])\n",
    "xgb_best_params['min_child_weight'] = int(xgb_best_params['min_child_weight'])\n",
    "\n",
    "# Базовые модели\n",
    "xgb_model = xgb.XGBRegressor(**xgb_best_params)\n",
    "rf_model = RandomForestRegressor(**rf_best_params)\n",
    "\n",
    "# Stacking\n",
    "stacked_model = StackingRegressor(\n",
    "    estimators=[('xgb', xgb_model), ('rf', rf_model)],\n",
    "    final_estimator=LinearRegression()\n",
    ")\n",
    "\n",
    "# Обучаем модель\n",
    "stacked_model.fit(X_train, y_train)"
   ]
  },
  {
   "cell_type": "code",
   "execution_count": 189,
   "id": "e2717dbf-c418-439f-8eb2-bbf188faa114",
   "metadata": {},
   "outputs": [
    {
     "name": "stdout",
     "output_type": "stream",
     "text": [
      "Mean Absolute Error: 5.346117169768797\n"
     ]
    }
   ],
   "source": [
    "stacked_preds = stacked_model.predict(X_val)\n",
    "stacked_mae = mean_absolute_error(y_val, stacked_preds)\n",
    "print(f'Mean Absolute Error: {stacked_mae}')"
   ]
  }
 ],
 "metadata": {
  "kernelspec": {
   "display_name": "Python 3 (ipykernel)",
   "language": "python",
   "name": "python3"
  },
  "language_info": {
   "codemirror_mode": {
    "name": "ipython",
    "version": 3
   },
   "file_extension": ".py",
   "mimetype": "text/x-python",
   "name": "python",
   "nbconvert_exporter": "python",
   "pygments_lexer": "ipython3",
   "version": "3.9.18"
  }
 },
 "nbformat": 4,
 "nbformat_minor": 5
}
